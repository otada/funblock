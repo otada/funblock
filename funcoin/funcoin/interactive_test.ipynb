{
 "cells": [
  {
   "cell_type": "code",
   "execution_count": null,
   "metadata": {},
   "outputs": [],
   "source": [
    "from math import random\n",
    "\n",
    "rand = random.getrandbits(64)"
   ]
  }
 ],
 "metadata": {
  "interpreter": {
   "hash": "ad44aa13961ca9733d4343df53a1423bfa9b9f3700652f503bccd6e3a904af63"
  },
  "kernelspec": {
   "display_name": "Python 3.9.6 64-bit",
   "name": "python3"
  },
  "language_info": {
   "name": "python",
   "version": "3.9.6"
  },
  "orig_nbformat": 4
 },
 "nbformat": 4,
 "nbformat_minor": 2
}
